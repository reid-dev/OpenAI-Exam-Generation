{
 "cells": [
  {
   "cell_type": "code",
   "execution_count": 6,
   "metadata": {},
   "outputs": [],
   "source": [
    "# Package Imports\n",
    "import dotenv\n",
    "import openai\n",
    "\n",
    "# Internal Imports\n",
    "import os"
   ]
  },
  {
   "cell_type": "markdown",
   "metadata": {},
   "source": []
  },
  {
   "attachments": {},
   "cell_type": "markdown",
   "metadata": {},
   "source": [
    "### Prompt Design\n",
    "\n",
    "One of the most important interactions between a user and OpenAI, is how we deisgn the prompt. A poorly designed prompt and handling can lead to inferior responses. A well designed prompt and handling can lead to better responses; responses that are more in line with what we are looking for. \n",
    "\n",
    "Additionally, poor prompt design and handling can lead to security issues. One of the usual methods of attack on any application is by manipulating user input. If we have a poorly designed prompt, we can be vulnerable to attacks. If we take the security of the prompt into question during design, we have less to worry about in the future."
   ]
  },
  {
   "attachments": {},
   "cell_type": "markdown",
   "metadata": {},
   "source": [
    "#### Design Factors\n",
    "\n",
    "* Model Choice\n",
    "    * Unless there is a good reason not to, we should use the largest model available. This will give us the most options for the future. An example of a reason not to could be a zero day vulnerability in the model, or using an old model for specific testing purposes.\n",
    "\n",
    "* Instructions\n",
    "    * We can and should provide instructions to the model. If we want an SQL response, then design the prompt to ask for an SQL response. If we want a summary of text, ask for it. \n",
    "    * OpenAI has good guidelines on defining effective prompts and we should follow these. For example if we want SQL:\n",
    "    \n",
    "    ``` Translate the following text to an SQL prompt: ```\n",
    "    \n",
    "    ``` TEXT: \"\"\"```\n",
    "    \n",
    "    ``` {Whatever text we can converted injected here} ```\n",
    "    \n",
    "    ``` \"\"\" ```\n",
    "* Details\n",
    "    * The more succint and appropriate details we provide, the better the response will be. For example if we want a macabre poem, the following would be a badly detailed prompt:\n",
    "        * Write a macabre poem\n",
    "\n",
    "    * The following would be a better prompt:\n",
    "        * Write a macbre poem in iambic pentameter that is sixteen lines long and includes the words \"raven\", \"owl\" and \"caw\".\n",
    "\n",
    "* Be Direct\n",
    "    * As of right now, OpenAI and the models we use do not have any emotions. Be direct and clear in what you want.\n",
    "\n",
    "* Initate the response in the prompt\n",
    "    * This can be helpful, especially if we are excepting code in our response. If we want a python function, start the function at the end of the prompt:\n",
    "\n",
    "    ``` Write a function that iterates over a list and removes any duplicates. def removeDuplicates(list):   ```\n",
    "\n",
    "Alas, my description and examples are not exhaustive, nor am I more of an expert on the subject matter than those who designed it. For more detailed information on designing prompts, you can read OpenAI's documentation [here](https://platform.openai.com/docs/guides/completion/introduction/prompt-design)."
   ]
  },
  {
   "attachments": {},
   "cell_type": "markdown",
   "metadata": {},
   "source": [
    "#### Designing The Exam - A Catch\n",
    "\n",
    "Currently, there is no way to be 100% sure that the answers we get are completely accurate. While there is some way to better the accuracy, we will need to wait until these models can fact-check themselves before we can completely rely on them."
   ]
  },
  {
   "cell_type": "code",
   "execution_count": 5,
   "metadata": {},
   "outputs": [],
   "source": [
    "# API Key is Stored in a .env File, please see the .env.example file for more information\n",
    "dotenv.load_dotenv()\n",
    "openai.api_key = os.getenv(\"OPENAPI\")"
   ]
  },
  {
   "attachments": {},
   "cell_type": "markdown",
   "metadata": {},
   "source": [
    "#### The Exam Prompt\n",
    "\n",
    "Here is a list of requirements that we want from the prompt. \n",
    "\n",
    "* It needs to create a question on a specific topic. We will do this by passing an int parameter ``` topic ```\n",
    "* It needs to create x questions. We will do this by passing a variable ``` n_questions ```\n",
    "* It needs to provide n answers. We will do this by passing an int parameter ``` n_answers ```\n",
    "* It needs to provide one answer that is correct.\n",
    "* It needs to provide n-1 answers that are incorrect."
   ]
  },
  {
   "cell_type": "code",
   "execution_count": 9,
   "metadata": {},
   "outputs": [],
   "source": [
    "def create_exam_prompt(topic, n_questions, n_answers):\n",
    "    prompt = f\"Create a multiple choice exam on the topic of {topic}. The exam should have {n_questions} questions. \" \\\n",
    "                 + f\"Each question should have {n_answers} options. \"\\\n",
    "                 + f\"Each questions should have one correct answer and {n_answers-1} incorrect answers. \"\\\n",
    "                 + f\"Also include the correct answer for each question using the starting string 'Correct Answer: '.\"\n",
    "    return prompt"
   ]
  },
  {
   "attachments": {},
   "cell_type": "markdown",
   "metadata": {},
   "source": [
    "Now that we have designed a function that creates our prompt, let's test it out to see how it looks."
   ]
  },
  {
   "cell_type": "code",
   "execution_count": 10,
   "metadata": {},
   "outputs": [
    {
     "data": {
      "text/plain": [
       "\"Create a multiple choice exam on the topic of Deterministic finite automaton. The exam should have 5 questions. Each question should have 4 options. Each questions should have one correct answer and 3 incorrect answers. Also include the correct answer for each question using the starting string 'Correct Answer: '.\""
      ]
     },
     "execution_count": 10,
     "metadata": {},
     "output_type": "execute_result"
    }
   ],
   "source": [
    "create_exam_prompt(\"Deterministic finite automaton\", 5, 4)"
   ]
  },
  {
   "attachments": {},
   "cell_type": "markdown",
   "metadata": {},
   "source": [
    "#### OpenAI Call\n",
    "\n",
    "Now we can easily create prompts to pass to OpenAI.\n",
    "\n",
    "For this call we will use the following parameters:\n",
    "\n",
    "* Engine: Text-Davinci-003\n",
    "\n",
    "* Prompt: create_exam_prompt(\"Deterministic finite automaton\", 5, 4)\n",
    "\n",
    "* Max_Tokens = 256\n",
    "\n",
    "* Temperature = 0.7"
   ]
  },
  {
   "cell_type": "code",
   "execution_count": 11,
   "metadata": {},
   "outputs": [
    {
     "data": {
      "text/plain": [
       "'\\n\\nQ1: What is a Deterministic Finite Automaton (DFA)?\\nA) A theoretical machine used for solving mathematical problems\\nB) A mathematical model of computation used to recognize patterns within input\\nC) A type of graph used to represent an algorithm\\nD) A type of computer used to run programs\\n\\nCorrect Answer: B) A mathematical model of computation used to recognize patterns within input\\n\\nQ2: What is the input to a DFA?\\nA) An expression\\nB) A set of instructions\\nC) A set of symbols\\nD) A set of numbers\\n\\nCorrect Answer: C) A set of symbols\\n\\nQ3: What is the output of a DFA?\\nA) A set of instructions\\nB) A set of symbols\\nC) A set of numbers\\nD) A yes/no answer\\n\\nCorrect Answer: D) A yes/no answer\\n\\nQ4: What is the purpose of a DFA?\\nA) To solve mathematical problems\\nB) To recognize patterns within input\\nC) To represent an algorithm\\nD) To run programs\\n\\nCorrect Answer: B) To recognize patterns within input\\n\\nQ5: How many states can a DFA'"
      ]
     },
     "execution_count": 11,
     "metadata": {},
     "output_type": "execute_result"
    }
   ],
   "source": [
    "response = openai.Completion.create(engine=\"text-davinci-003\",\n",
    "                                            prompt=create_exam_prompt(\"Deterministic finite automaton\", 5, 4),\n",
    "                                            max_tokens=256,\n",
    "                                            temperature=0.7)\n",
    "response[\"choices\"][0][\"text\"]"
   ]
  },
  {
   "attachments": {},
   "cell_type": "markdown",
   "metadata": {},
   "source": [
    "As the above is hard to read, let's reformat it to make it more readable. First we can remove all of the '\\n' characters, instead putting a new line there. Also, we will remove the 5th question as it got cut off, as the amount of tokens was too small.\n",
    "\n",
    "Q1: What is a Deterministic Finite Automaton (DFA)?  \n",
    "    A) A theoretical machine used for solving mathematical problems  \n",
    "    B) A mathematical model of computation used to recognize patterns within input  \n",
    "    C) A type of graph used to represent an algorithm  \n",
    "    D) A type of computer used to run programs      \n",
    "    Correct Answer: B) A mathematical model of computation used to recognize patterns within input      \n",
    "    \n",
    "Q2: What is the input to a DFA?  \n",
    "    A) An expression  \n",
    "    B) A set of instructions  \n",
    "    C) A set of symbols  \n",
    "    D) A set of numbers    \n",
    "    Correct Answer: C) A set of symbols    \n",
    "\n",
    "Q3: What is the output of a DFA?  \n",
    "    A) A set of instructions  \n",
    "    B) A set of symbols  \n",
    "    C) A set of numbers  \n",
    "    D) A yes/no answer    \n",
    "    Correct Answer: D) A yes/no answer    \n",
    "\n",
    "Q4: What is the purpose of a DFA?  \n",
    "    A) To solve mathematical problems  \n",
    "    B) To recognize patterns within input  \n",
    "    C) To represent an algorithm  \n",
    "    D) To run programs    \n",
    "    Correct Answer: \n",
    "    B) To recognize patterns within input    "
   ]
  },
  {
   "attachments": {},
   "cell_type": "markdown",
   "metadata": {},
   "source": [
    "While it was simple for us to reformat this, the format what we choose would not be the intended use for this application. Instead, we want to create a viewpoint without the correct answer visible, but retain the knowledge of the correct answer for grading. We can do this by designing another function to extract the question, answers and correct answer for each question."
   ]
  },
  {
   "cell_type": "code",
   "execution_count": 15,
   "metadata": {},
   "outputs": [],
   "source": [
    "def create_exam_view(test, n_questions):\n",
    "    exam_view = {1 : \"\"}\n",
    "    question_n = 1\n",
    "    for line in test.split(\"\\n\"):\n",
    "        if not line.startswith(\"Correct Answer:\"):\n",
    "            exam_view[question_n] += line+\"\\n\"\n",
    "        else:\n",
    "\n",
    "            if question_n < n_questions:\n",
    "                question_n+=1\n",
    "                exam_view[question_n] = \"\"\n",
    "    return exam_view"
   ]
  },
  {
   "cell_type": "code",
   "execution_count": 20,
   "metadata": {},
   "outputs": [],
   "source": [
    "def extract_correct_answers(test, n_questions):\n",
    "    answers = {1 : \"\"}\n",
    "    question_n = 1\n",
    "    for line in test.split(\"\\n\"):\n",
    "        if line.startswith(\"Correct Answer:\"):\n",
    "            answers[question_n] += line+\"\\n\"\n",
    "\n",
    "            if question_n < n_questions:\n",
    "                question_n+=1\n",
    "                answers[question_n] = \"\"\n",
    "    return answers"
   ]
  },
  {
   "cell_type": "code",
   "execution_count": 17,
   "metadata": {},
   "outputs": [
    {
     "data": {
      "text/plain": [
       "{1: '\\n\\nQ1: What is a Deterministic Finite Automaton (DFA)?\\nA) A theoretical machine used for solving mathematical problems\\nB) A mathematical model of computation used to recognize patterns within input\\nC) A type of graph used to represent an algorithm\\nD) A type of computer used to run programs\\n\\n',\n",
       " 2: '\\nQ2: What is the input to a DFA?\\nA) An expression\\nB) A set of instructions\\nC) A set of symbols\\nD) A set of numbers\\n\\n',\n",
       " 3: '\\nQ3: What is the output of a DFA?\\nA) A set of instructions\\nB) A set of symbols\\nC) A set of numbers\\nD) A yes/no answer\\n\\n',\n",
       " 4: '\\nQ4: What is the purpose of a DFA?\\nA) To solve mathematical problems\\nB) To recognize patterns within input\\nC) To represent an algorithm\\nD) To run programs\\n\\n\\nQ5: How many states can a DFA\\n'}"
      ]
     },
     "execution_count": 17,
     "metadata": {},
     "output_type": "execute_result"
    }
   ],
   "source": [
    "create_exam_view(response[\"choices\"][0][\"text\"], 4)"
   ]
  },
  {
   "cell_type": "code",
   "execution_count": 21,
   "metadata": {},
   "outputs": [
    {
     "data": {
      "text/plain": [
       "{1: 'Correct Answer: B) A mathematical model of computation used to recognize patterns within input\\n',\n",
       " 2: 'Correct Answer: C) A set of symbols\\n',\n",
       " 3: 'Correct Answer: D) A yes/no answer\\n',\n",
       " 4: 'Correct Answer: B) To recognize patterns within input\\n'}"
      ]
     },
     "execution_count": 21,
     "metadata": {},
     "output_type": "execute_result"
    }
   ],
   "source": [
    "extract_correct_answers(response[\"choices\"][0][\"text\"], 4)"
   ]
  },
  {
   "attachments": {},
   "cell_type": "markdown",
   "metadata": {},
   "source": [
    "#### Lets Take The Exam\n",
    "\n",
    "Based on the above, we can now simulate an exam and see how well we do."
   ]
  },
  {
   "cell_type": "code",
   "execution_count": 22,
   "metadata": {},
   "outputs": [],
   "source": [
    "def take(exam_view):\n",
    "    answers = {}\n",
    "    for question, question_view in exam_view.items():\n",
    "        print(question_view)\n",
    "        answer = input(\"Enter your answer: \")\n",
    "        answers[question] = answer\n",
    "    return answers\n"
   ]
  },
  {
   "cell_type": "code",
   "execution_count": 35,
   "metadata": {},
   "outputs": [],
   "source": [
    "def grade(correct_answers_list, answers):\n",
    "    correct_answers = 0\n",
    "    for question, answer in answers.items():\n",
    "        if answer.upper() == correct_answers_list[question].upper()[16]:\n",
    "            correct_answers+=1\n",
    "    grade = 100 * correct_answers / len(answers)\n",
    "\n",
    "    grammar = 'an'\n",
    "    if grade >= 90:\n",
    "        letter = 'A'\n",
    "        grammar = 'an'\n",
    "    elif grade >= 80:\n",
    "        letter = 'B'\n",
    "    elif grade >= 70:\n",
    "        letter = 'C'\n",
    "    elif grade >= 60:\n",
    "        letter = 'D'\n",
    "    else:\n",
    "        letter = \"E\"\n",
    "        grammar = 'an'\n",
    "    return f\"Exam results: {correct_answers} out of {len(answers)} answers correct! You achieved {grammar} {letter} with a percentage score of {grade}.\"\n"
   ]
  },
  {
   "cell_type": "code",
   "execution_count": 26,
   "metadata": {},
   "outputs": [
    {
     "name": "stdout",
     "output_type": "stream",
     "text": [
      "\n",
      "\n",
      "Q1: What is a Deterministic Finite Automaton (DFA)?\n",
      "A) A theoretical machine used for solving mathematical problems\n",
      "B) A mathematical model of computation used to recognize patterns within input\n",
      "C) A type of graph used to represent an algorithm\n",
      "D) A type of computer used to run programs\n",
      "\n",
      "\n",
      "\n",
      "Q2: What is the input to a DFA?\n",
      "A) An expression\n",
      "B) A set of instructions\n",
      "C) A set of symbols\n",
      "D) A set of numbers\n",
      "\n",
      "\n",
      "\n",
      "Q3: What is the output of a DFA?\n",
      "A) A set of instructions\n",
      "B) A set of symbols\n",
      "C) A set of numbers\n",
      "D) A yes/no answer\n",
      "\n",
      "\n",
      "\n",
      "Q4: What is the purpose of a DFA?\n",
      "A) To solve mathematical problems\n",
      "B) To recognize patterns within input\n",
      "C) To represent an algorithm\n",
      "D) To run programs\n",
      "\n",
      "\n",
      "Q5: How many states can a DFA\n",
      "\n"
     ]
    }
   ],
   "source": [
    "answers = take(create_exam_view(response[\"choices\"][0][\"text\"], 4))"
   ]
  },
  {
   "cell_type": "code",
   "execution_count": 36,
   "metadata": {},
   "outputs": [
    {
     "data": {
      "text/plain": [
       "'Exam results: 4 out of 4 answers correct! You achieved an A with a percentage score of 100.0.'"
      ]
     },
     "execution_count": 36,
     "metadata": {},
     "output_type": "execute_result"
    }
   ],
   "source": [
    "grade(extract_correct_answers(response[\"choices\"][0][\"text\"], 4), answers)"
   ]
  },
  {
   "cell_type": "code",
   "execution_count": null,
   "metadata": {},
   "outputs": [],
   "source": []
  }
 ],
 "metadata": {
  "kernelspec": {
   "display_name": "data_env",
   "language": "python",
   "name": "python3"
  },
  "language_info": {
   "codemirror_mode": {
    "name": "ipython",
    "version": 3
   },
   "file_extension": ".py",
   "mimetype": "text/x-python",
   "name": "python",
   "nbconvert_exporter": "python",
   "pygments_lexer": "ipython3",
   "version": "3.10.9"
  },
  "orig_nbformat": 4
 },
 "nbformat": 4,
 "nbformat_minor": 2
}
